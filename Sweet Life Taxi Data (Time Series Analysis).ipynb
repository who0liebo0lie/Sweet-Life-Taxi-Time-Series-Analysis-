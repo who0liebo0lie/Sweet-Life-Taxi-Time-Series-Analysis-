{
 "cells": [
  {
   "cell_type": "markdown",
   "metadata": {},
   "source": [
    "## Time Series Analysis using Sweet Life Taxi data "
   ]
  },
  {
   "cell_type": "markdown",
   "metadata": {},
   "source": [
    "# Project description\n",
    "\n",
    "Sweet Lift Taxi company has collected historical data on taxi orders at airports. To attract more drivers during peak hours, we need to predict the amount of taxi orders for the next hour. Build a model for such a prediction.\n",
    "\n",
    "The RMSE metric on the test set should not be more than 48.\n",
    "\n",
    "## Project instructions\n",
    "\n",
    "1. Download the data and resample it by one hour.\n",
    "2. Analyze the data.\n",
    "3. Train different models with different hyperparameters. The test sample should be 10% of the initial dataset. \n",
    "4. Test the data using the test sample and provide a conclusion.\n",
    "\n",
    "## Data description\n",
    "\n",
    "The data is stored in file `taxi.csv`. The number of orders is in the '*num_orders*' column."
   ]
  },
  {
   "cell_type": "markdown",
   "metadata": {},
   "source": [
    "## Preparation"
   ]
  },
  {
   "cell_type": "code",
   "execution_count": 1,
   "metadata": {},
   "outputs": [],
   "source": [
    "import numpy as np\n",
    "import pandas as pd\n",
    "#for graphs\n",
    "import matplotlib.pyplot as plt\n",
    "\n",
    "#import named models \n",
    "from sklearn.pipeline import Pipeline\n",
    "from sklearn.linear_model import LinearRegression\n",
    "from sklearn.ensemble import RandomForestRegressor\n",
    "from sklearn.tree import DecisionTreeRegressor\n",
    "from sklearn.ensemble import GradientBoostingRegressor\n",
    "import lightgbm as lgb\n",
    "from statsmodels.tsa.statespace.sarimax import SARIMAX\n",
    "from statsmodels.tsa.holtwinters import ExponentialSmoothing\n",
    "from pmdarima import auto_arima\n",
    "\n",
    "\n",
    "#import ability to split into training and testing data sets \n",
    "from sklearn.model_selection import train_test_split\n",
    "from sklearn.model_selection import TimeSeriesSplit\n",
    "\n",
    "#import ability to evaluate accuracy of data \n",
    "from sklearn.metrics import mean_squared_error\n",
    "from sklearn.metrics import accuracy_score\n",
    "\n",
    "#needed to compare. \n",
    "from sklearn.model_selection import GridSearchCV\n",
    "from sklearn.metrics import mean_squared_error\n",
    "from sklearn.model_selection import cross_val_predict\n",
    "from sklearn.preprocessing import StandardScaler\n",
    "from statsmodels.tsa.seasonal import seasonal_decompose\n",
    "from sklearn.utils import check_X_y\n",
    "\n",
    "import sklearn.linear_model\n",
    "import sklearn.metrics\n",
    "import sklearn.neighbors\n",
    "import sklearn.preprocessing\n",
    "from sklearn.preprocessing import OrdinalEncoder\n",
    "\n",
    "from IPython.display import display\n",
    "\n"
   ]
  },
  {
   "cell_type": "code",
   "execution_count": 2,
   "metadata": {},
   "outputs": [
    {
     "name": "stdout",
     "output_type": "stream",
     "text": [
      "<class 'pandas.core.frame.DataFrame'>\n",
      "RangeIndex: 26496 entries, 0 to 26495\n",
      "Data columns (total 2 columns):\n",
      " #   Column      Non-Null Count  Dtype \n",
      "---  ------      --------------  ----- \n",
      " 0   datetime    26496 non-null  object\n",
      " 1   num_orders  26496 non-null  int64 \n",
      "dtypes: int64(1), object(1)\n",
      "memory usage: 414.1+ KB\n"
     ]
    },
    {
     "data": {
      "text/html": [
       "<div>\n",
       "<style scoped>\n",
       "    .dataframe tbody tr th:only-of-type {\n",
       "        vertical-align: middle;\n",
       "    }\n",
       "\n",
       "    .dataframe tbody tr th {\n",
       "        vertical-align: top;\n",
       "    }\n",
       "\n",
       "    .dataframe thead th {\n",
       "        text-align: right;\n",
       "    }\n",
       "</style>\n",
       "<table border=\"1\" class=\"dataframe\">\n",
       "  <thead>\n",
       "    <tr style=\"text-align: right;\">\n",
       "      <th></th>\n",
       "      <th>datetime</th>\n",
       "      <th>num_orders</th>\n",
       "    </tr>\n",
       "  </thead>\n",
       "  <tbody>\n",
       "    <tr>\n",
       "      <th>0</th>\n",
       "      <td>2018-03-01 00:00:00</td>\n",
       "      <td>9</td>\n",
       "    </tr>\n",
       "    <tr>\n",
       "      <th>1</th>\n",
       "      <td>2018-03-01 00:10:00</td>\n",
       "      <td>14</td>\n",
       "    </tr>\n",
       "    <tr>\n",
       "      <th>2</th>\n",
       "      <td>2018-03-01 00:20:00</td>\n",
       "      <td>28</td>\n",
       "    </tr>\n",
       "    <tr>\n",
       "      <th>3</th>\n",
       "      <td>2018-03-01 00:30:00</td>\n",
       "      <td>20</td>\n",
       "    </tr>\n",
       "  </tbody>\n",
       "</table>\n",
       "</div>"
      ],
      "text/plain": [
       "              datetime  num_orders\n",
       "0  2018-03-01 00:00:00           9\n",
       "1  2018-03-01 00:10:00          14\n",
       "2  2018-03-01 00:20:00          28\n",
       "3  2018-03-01 00:30:00          20"
      ]
     },
     "execution_count": 2,
     "metadata": {},
     "output_type": "execute_result"
    }
   ],
   "source": [
    "df = pd.read_csv('/datasets/taxi.csv')\n",
    "df.info()\n",
    "df.head(4)"
   ]
  },
  {
   "cell_type": "code",
   "execution_count": 3,
   "metadata": {},
   "outputs": [],
   "source": [
    "# convert datetime column to american readability\n",
    "#df['datetime'] =pd.to_datetime(df['datetime'] ,format='%y-%m-%d %H:%M',errors='coerce')\n",
    "#convert datetime datatype \n",
    "df['datetime'] = pd.to_datetime(df['datetime'])\n"
   ]
  },
  {
   "cell_type": "code",
   "execution_count": 4,
   "metadata": {},
   "outputs": [
    {
     "data": {
      "text/plain": [
       "0"
      ]
     },
     "execution_count": 4,
     "metadata": {},
     "output_type": "execute_result"
    }
   ],
   "source": [
    "#check if any rows are duplicated\n",
    "df.duplicated().sum()"
   ]
  },
  {
   "cell_type": "code",
   "execution_count": 5,
   "metadata": {},
   "outputs": [
    {
     "data": {
      "text/plain": [
       "datetime      0\n",
       "num_orders    0\n",
       "dtype: int64"
      ]
     },
     "execution_count": 5,
     "metadata": {},
     "output_type": "execute_result"
    }
   ],
   "source": [
    "#check for empty cells.from info printout does not seem there is any but confirm \n",
    "df.isna().sum()"
   ]
  },
  {
   "cell_type": "markdown",
   "metadata": {},
   "source": [
    "## Analysis"
   ]
  },
  {
   "cell_type": "code",
   "execution_count": 6,
   "metadata": {},
   "outputs": [
    {
     "name": "stdout",
     "output_type": "stream",
     "text": [
      "             datetime  num_orders\n",
      "0 2018-03-01 00:00:00           9\n",
      "1 2018-03-01 00:10:00          14\n",
      "2 2018-03-01 00:20:00          28\n",
      "AxesSubplot(0.125,0.11;0.775x0.77)\n"
     ]
    },
    {
     "data": {
      "image/png": "[encoded data removed]",
      "text/plain": [
       "<Figure size 640x480 with 1 Axes>"
      ]
     },
     "metadata": {},
     "output_type": "display_data"
    }
   ],
   "source": [
    "# Set the datetime column as the index\n",
    "print(df.head(3))\n",
    "df = df.set_index('datetime')\n",
    "#resample into hour groupings rather than 10 minutes \n",
    "print(df.plot(xlabel='Date (10 min. intervals)', ylabel='Number of Orders',title='Original Taxi Data', color='green', legend=False))\n"
   ]
  },
  {
   "cell_type": "code",
   "execution_count": 7,
   "metadata": {},
   "outputs": [
    {
     "name": "stdout",
     "output_type": "stream",
     "text": [
      "                     num_orders\n",
      "datetime                       \n",
      "2018-03-01 00:00:00         124\n",
      "2018-03-01 01:00:00          85\n",
      "2018-03-01 02:00:00          71\n",
      "2018-03-01 03:00:00          66\n",
      "AxesSubplot(0.125,0.11;0.775x0.77)\n"
     ]
    },
    {
     "data": {
      "image/png": "[encoded data removed]",
      "text/plain": [
       "<Figure size 640x480 with 1 Axes>"
      ]
     },
     "metadata": {},
     "output_type": "display_data"
    }
   ],
   "source": [
    "dfs=df.resample('1H').sum()\n",
    "print(dfs.head(4))\n",
    "print(dfs.plot(xlabel='Date (1 hour intervals)', ylabel='Number of Orders',title='Original Taxi Data', color='pink', legend=False))"
   ]
  },
  {
   "cell_type": "code",
   "execution_count": 8,
   "metadata": {},
   "outputs": [
    {
     "data": {
      "image/png": "[encoded data removed]",
      "text/plain": [
       "<Figure size 800x800 with 3 Axes>"
      ]
     },
     "metadata": {},
     "output_type": "display_data"
    }
   ],
   "source": [
    "#evaluate summed data frame dfs for any trend, seasonality, or residual\n",
    "decomposed = seasonal_decompose(dfs)\n",
    "\n",
    "plt.figure(figsize=(8, 8))\n",
    "plt.suptitle('Sweet Lift Taxi Data[grouped by hour]', fontsize=16)  # Add title to the figure\n",
    "\n",
    "plt.subplot(311)\n",
    "decomposed.trend.plot(ax=plt.gca())\n",
    "plt.title('Trend')\n",
    "plt.subplot(312)\n",
    "decomposed.seasonal.plot(ax=plt.gca())\n",
    "plt.title('Seasonality')\n",
    "plt.subplot(313)\n",
    "decomposed.resid.plot(ax=plt.gca())\n",
    "plt.title('Residuals')\n",
    "plt.title('Raw Sweet Lift Taxi Data ')\n",
    "\n",
    "plt.tight_layout()  "
   ]
  },
  {
   "cell_type": "code",
   "execution_count": 9,
   "metadata": {},
   "outputs": [
    {
     "data": {
      "image/png": "[encoded data removed]",
      "text/plain": [
       "<Figure size 800x800 with 3 Axes>"
      ]
     },
     "metadata": {},
     "output_type": "display_data"
    }
   ],
   "source": [
    "#evaluate a smaller time frame to detect if any seasonality trends. choose the first three months (March/April/May)\n",
    "#cut dataframe in half\n",
    "three_month=dfs.iloc[:2208]\n",
    "three_season = seasonal_decompose(three_month)\n",
    "\n",
    "#cut dataframe to be just march\n",
    "march=three_month.iloc[:745]\n",
    "month_season = seasonal_decompose(march)\n",
    "\n",
    "#cut dataframe the be first 3 days of march since seasonality pattern repeat\n",
    "days=march.iloc[:72]\n",
    "day_season = seasonal_decompose(days)\n",
    "\n",
    "\n",
    "plt.figure(figsize=(8, 8))\n",
    "plt.suptitle('Seasonality of Sweet Lift Taxi Data', fontsize=16)  # Add title to the figure\n",
    "\n",
    "plt.subplot(311)\n",
    "three_season.seasonal.plot(ax=plt.gca(),color='red')\n",
    "plt.title('First 3 Months')\n",
    "plt.subplot(312)\n",
    "month_season.seasonal.plot(ax=plt.gca(),color='purple')\n",
    "plt.title('March')\n",
    "plt.subplot(313)\n",
    "day_season.seasonal.plot(ax=plt.gca(),color='orange')\n",
    "plt.title('March 1-3')\n",
    "\n",
    "\n",
    "plt.tight_layout() \n"
   ]
  },
  {
   "cell_type": "markdown",
   "metadata": {},
   "source": [
    "## EDA Conclusion \n",
    "The data did not require much manipulation.  There were no rows that were duplicated or empty.  The df['datetime'] column needed to switch from an object datatype to a datetime.  The original data points were taken every 10 minutes.  In the pink chart above the information was summed for every hour.  \n",
    "\n",
    "A trend exists at the taxi company that the number of rides is increasing as time goes along. This is great news for business.  Evaluating with 'seasonal_decompose' there was an observable seasonality but an overload of data. The data was cut down until seasonality could be seen on graph.  At first just three months were looked at, then just the month of March, and then the first three days of March.  In the subplot for the first three days of March it is visible that every 24 hours the pattern repeats.  The call for taxis is the highest around midnight. Wherever Sweet Lift Taxi company airport must have an influx of flight arrivals near 11pm and midnight. Flights also must increase in the warmer months.   "
   ]
  },
  {
   "cell_type": "markdown",
   "metadata": {},
   "source": [
    "## Training"
   ]
  },
  {
   "cell_type": "code",
   "execution_count": 10,
   "metadata": {},
   "outputs": [],
   "source": [
    "def train_or_test(pipeline,x_train,y_train,x_test,y_test):\n",
    "    pipeline.fit(x_train,y_train)\n",
    "    y_pred=pipeline.predict(x_test)\n",
    "    \n",
    "    rmse=mean_square_error(y_test,y_pred,squared=False)\n",
    "    \n",
    "    return rmse"
   ]
  },
  {
   "cell_type": "code",
   "execution_count": 11,
   "metadata": {},
   "outputs": [
    {
     "data": {
      "text/html": [
       "<div>\n",
       "<style scoped>\n",
       "    .dataframe tbody tr th:only-of-type {\n",
       "        vertical-align: middle;\n",
       "    }\n",
       "\n",
       "    .dataframe tbody tr th {\n",
       "        vertical-align: top;\n",
       "    }\n",
       "\n",
       "    .dataframe thead th {\n",
       "        text-align: right;\n",
       "    }\n",
       "</style>\n",
       "<table border=\"1\" class=\"dataframe\">\n",
       "  <thead>\n",
       "    <tr style=\"text-align: right;\">\n",
       "      <th></th>\n",
       "      <th>num_orders</th>\n",
       "    </tr>\n",
       "    <tr>\n",
       "      <th>datetime</th>\n",
       "      <th></th>\n",
       "    </tr>\n",
       "  </thead>\n",
       "  <tbody>\n",
       "    <tr>\n",
       "      <th>2018-03-01 00:00:00</th>\n",
       "      <td>124</td>\n",
       "    </tr>\n",
       "    <tr>\n",
       "      <th>2018-03-01 01:00:00</th>\n",
       "      <td>85</td>\n",
       "    </tr>\n",
       "    <tr>\n",
       "      <th>2018-03-01 02:00:00</th>\n",
       "      <td>71</td>\n",
       "    </tr>\n",
       "  </tbody>\n",
       "</table>\n",
       "</div>"
      ],
      "text/plain": [
       "                     num_orders\n",
       "datetime                       \n",
       "2018-03-01 00:00:00         124\n",
       "2018-03-01 01:00:00          85\n",
       "2018-03-01 02:00:00          71"
      ]
     },
     "execution_count": 11,
     "metadata": {},
     "output_type": "execute_result"
    }
   ],
   "source": [
    "dfs.head(3)"
   ]
  },
  {
   "cell_type": "code",
   "execution_count": 12,
   "metadata": {},
   "outputs": [
    {
     "name": "stdout",
     "output_type": "stream",
     "text": [
      "x shape: (4416, 7)\n"
     ]
    },
    {
     "data": {
      "text/plain": [
       "'x head:\\n'"
      ]
     },
     "metadata": {},
     "output_type": "display_data"
    },
    {
     "data": {
      "text/html": [
       "<div>\n",
       "<style scoped>\n",
       "    .dataframe tbody tr th:only-of-type {\n",
       "        vertical-align: middle;\n",
       "    }\n",
       "\n",
       "    .dataframe tbody tr th {\n",
       "        vertical-align: top;\n",
       "    }\n",
       "\n",
       "    .dataframe thead th {\n",
       "        text-align: right;\n",
       "    }\n",
       "</style>\n",
       "<table border=\"1\" class=\"dataframe\">\n",
       "  <thead>\n",
       "    <tr style=\"text-align: right;\">\n",
       "      <th></th>\n",
       "      <th>hour</th>\n",
       "      <th>day_of_week</th>\n",
       "      <th>is_weekend</th>\n",
       "      <th>rolling_mean</th>\n",
       "      <th>lag_1</th>\n",
       "      <th>lag_2</th>\n",
       "      <th>lag_3</th>\n",
       "    </tr>\n",
       "    <tr>\n",
       "      <th>datetime</th>\n",
       "      <th></th>\n",
       "      <th></th>\n",
       "      <th></th>\n",
       "      <th></th>\n",
       "      <th></th>\n",
       "      <th></th>\n",
       "      <th></th>\n",
       "    </tr>\n",
       "  </thead>\n",
       "  <tbody>\n",
       "    <tr>\n",
       "      <th>2018-03-01 00:00:00</th>\n",
       "      <td>0</td>\n",
       "      <td>3</td>\n",
       "      <td>0</td>\n",
       "      <td>NaN</td>\n",
       "      <td>NaN</td>\n",
       "      <td>NaN</td>\n",
       "      <td>NaN</td>\n",
       "    </tr>\n",
       "    <tr>\n",
       "      <th>2018-03-01 01:00:00</th>\n",
       "      <td>1</td>\n",
       "      <td>3</td>\n",
       "      <td>0</td>\n",
       "      <td>NaN</td>\n",
       "      <td>124.0</td>\n",
       "      <td>NaN</td>\n",
       "      <td>NaN</td>\n",
       "    </tr>\n",
       "    <tr>\n",
       "      <th>2018-03-01 02:00:00</th>\n",
       "      <td>2</td>\n",
       "      <td>3</td>\n",
       "      <td>0</td>\n",
       "      <td>NaN</td>\n",
       "      <td>85.0</td>\n",
       "      <td>124.0</td>\n",
       "      <td>NaN</td>\n",
       "    </tr>\n",
       "    <tr>\n",
       "      <th>2018-03-01 03:00:00</th>\n",
       "      <td>3</td>\n",
       "      <td>3</td>\n",
       "      <td>0</td>\n",
       "      <td>86.50</td>\n",
       "      <td>71.0</td>\n",
       "      <td>85.0</td>\n",
       "      <td>124.0</td>\n",
       "    </tr>\n",
       "    <tr>\n",
       "      <th>2018-03-01 04:00:00</th>\n",
       "      <td>4</td>\n",
       "      <td>3</td>\n",
       "      <td>0</td>\n",
       "      <td>66.25</td>\n",
       "      <td>66.0</td>\n",
       "      <td>71.0</td>\n",
       "      <td>85.0</td>\n",
       "    </tr>\n",
       "  </tbody>\n",
       "</table>\n",
       "</div>"
      ],
      "text/plain": [
       "                     hour  day_of_week  is_weekend  rolling_mean  lag_1  \\\n",
       "datetime                                                                  \n",
       "2018-03-01 00:00:00     0            3           0           NaN    NaN   \n",
       "2018-03-01 01:00:00     1            3           0           NaN  124.0   \n",
       "2018-03-01 02:00:00     2            3           0           NaN   85.0   \n",
       "2018-03-01 03:00:00     3            3           0         86.50   71.0   \n",
       "2018-03-01 04:00:00     4            3           0         66.25   66.0   \n",
       "\n",
       "                     lag_2  lag_3  \n",
       "datetime                           \n",
       "2018-03-01 00:00:00    NaN    NaN  \n",
       "2018-03-01 01:00:00    NaN    NaN  \n",
       "2018-03-01 02:00:00  124.0    NaN  \n",
       "2018-03-01 03:00:00   85.0  124.0  \n",
       "2018-03-01 04:00:00   71.0   85.0  "
      ]
     },
     "metadata": {},
     "output_type": "display_data"
    },
    {
     "name": "stdout",
     "output_type": "stream",
     "text": [
      "y shape: (4416,)\n"
     ]
    },
    {
     "data": {
      "text/plain": [
       "'y head:\\n'"
      ]
     },
     "metadata": {},
     "output_type": "display_data"
    },
    {
     "data": {
      "text/plain": [
       "datetime\n",
       "2018-03-01 00:00:00    124\n",
       "2018-03-01 01:00:00     85\n",
       "2018-03-01 02:00:00     71\n",
       "2018-03-01 03:00:00     66\n",
       "2018-03-01 04:00:00     43\n",
       "Freq: H, Name: num_orders, dtype: int64"
      ]
     },
     "metadata": {},
     "output_type": "display_data"
    }
   ],
   "source": [
    "# Generate features from datetime index\n",
    "dfs['hour'] = dfs.index.hour\n",
    "dfs['day_of_week'] = dfs.index.dayofweek\n",
    "dfs['is_weekend'] = dfs['day_of_week'].isin([5, 6]).astype(int)\n",
    "dfs['rolling_mean'] = dfs['num_orders'].rolling(4).mean()\n",
    "dfs['lag_1'] = dfs['num_orders'].shift(1)\n",
    "dfs['lag_2'] = dfs['num_orders'].shift(2)\n",
    "dfs['lag_3'] = dfs['num_orders'].shift(3)\n",
    "\n",
    "# Define features (x) and target (y)\n",
    "x = dfs.drop('num_orders', axis=1)\n",
    "y = dfs['num_orders']\n",
    "\n",
    "# Check the dataset before splitting\n",
    "print(\"x shape:\", x.shape)\n",
    "display(\"x head:\\n\", x.head())\n",
    "print(\"y shape:\", y.shape)\n",
    "display(\"y head:\\n\", y.head())\n"
   ]
  },
  {
   "cell_type": "code",
   "execution_count": 13,
   "metadata": {},
   "outputs": [],
   "source": [
    "#check for new NAN in newly created features\n",
    "dfs.isna().sum()\n",
    "#NAN only exist for first 3 rows. will not effect overall results so drop those rows. \n",
    "dfs=dfs.dropna()"
   ]
  },
  {
   "cell_type": "code",
   "execution_count": 14,
   "metadata": {},
   "outputs": [],
   "source": [
    "x=dfs.drop('num_orders',axis=1)\n",
    "y=dfs['num_orders']"
   ]
  },
  {
   "cell_type": "code",
   "execution_count": 15,
   "metadata": {},
   "outputs": [],
   "source": [
    "#split data for training and test\n",
    "x_train,x_test,y_train,y_test=train_test_split(x,y,test_size=0.1, random_state=42,shuffle=False)"
   ]
  },
  {
   "cell_type": "code",
   "execution_count": 16,
   "metadata": {},
   "outputs": [],
   "source": [
    "# Check that x_train and y_train are valid\n",
    "x_train, y_train = check_X_y(x_train, y_train)"
   ]
  },
  {
   "cell_type": "code",
   "execution_count": 17,
   "metadata": {},
   "outputs": [
    {
     "name": "stdout",
     "output_type": "stream",
     "text": [
      "Running GridSearchCV for RandomForest...\n",
      "Best RandomForest Parameters: {'max_depth': 20, 'n_estimators': 200, 'random_state': 42}\n",
      "RandomForest RMSE: 33.88\n",
      "--------------------------------------------------\n",
      "Running GridSearchCV for DecisionTree...\n",
      "Best DecisionTree Parameters: {'max_depth': 10, 'random_state': 42}\n",
      "DecisionTree RMSE: 43.50\n",
      "--------------------------------------------------\n",
      "Running GridSearchCV for GradientBoosting...\n",
      "Best GradientBoosting Parameters: {'learning_rate': 0.2, 'max_depth': 3, 'n_estimators': 200, 'random_state': 123}\n",
      "GradientBoosting RMSE: 27.54\n",
      "--------------------------------------------------\n"
     ]
    }
   ],
   "source": [
    "# Define the number of splits for time series cross-validation\n",
    "tscv = TimeSeriesSplit(n_splits=5)\n",
    "\n",
    "# Define models and their respective parameter grids\n",
    "models_and_params = {\n",
    "    'RandomForest': {\n",
    "        'model': RandomForestRegressor(),\n",
    "        'param_grid': {\n",
    "            'n_estimators': [50, 100, 200],\n",
    "            'max_depth': [None, 10, 20],\n",
    "            'random_state': [0, 42, 123]\n",
    "        }\n",
    "    },\n",
    "    'DecisionTree': {\n",
    "        'model': DecisionTreeRegressor(),\n",
    "        'param_grid': {\n",
    "            'max_depth': [3, 5, 10],\n",
    "            'random_state': [0, 42, 123]\n",
    "        }\n",
    "    },\n",
    "    'GradientBoosting': {\n",
    "        'model': GradientBoostingRegressor(),\n",
    "        'param_grid': {\n",
    "            'n_estimators': [50, 100, 200],\n",
    "            'learning_rate': [0.01, 0.1, 0.2],\n",
    "            'max_depth': [3, 5, 10],\n",
    "            'random_state': [0, 42, 123]\n",
    "        }\n",
    "    }\n",
    "}\n",
    "\n",
    "# Loop through models and perform grid search\n",
    "for model_name, config in models_and_params.items():\n",
    "    print(f\"Running GridSearchCV for {model_name}...\")\n",
    "\n",
    "    if config['param_grid']:\n",
    "        # Initialize GridSearchCV\n",
    "        grid_search = GridSearchCV(\n",
    "            estimator=config['model'],\n",
    "            param_grid=config['param_grid'],\n",
    "            cv=tscv,\n",
    "            scoring='neg_mean_squared_error',\n",
    "            n_jobs=-1\n",
    "        )\n",
    "        # Fit the model using GridSearchCV\n",
    "        grid_search.fit(x_train, y_train)\n",
    "\n",
    "        # Get the best model and make predictions\n",
    "        best_model = grid_search.best_estimator_\n",
    "        predictions = best_model.predict(x_test)\n",
    "\n",
    "        # Calculate RMSE\n",
    "        rmse = np.sqrt(mean_squared_error(y_test, predictions))\n",
    "\n",
    "        print(f\"Best {model_name} Parameters: {grid_search.best_params_}\")\n",
    "    else:\n",
    "        # For models without hyperparameters train directly\n",
    "        model = config['model']\n",
    "        model.fit(x_train, y_train)\n",
    "        predictions = model.predict(x_test)\n",
    "        rmse = np.sqrt(mean_squared_error(y_test, predictions))\n",
    "\n",
    "    print(f\"{model_name} RMSE: {rmse:.2f}\")\n",
    "    print(\"-\" * 50)\n"
   ]
  },
  {
   "cell_type": "markdown",
   "metadata": {},
   "source": [
    "## Testing"
   ]
  },
  {
   "cell_type": "code",
   "execution_count": 18,
   "metadata": {},
   "outputs": [
    {
     "name": "stdout",
     "output_type": "stream",
     "text": [
      "Gradient Boosting (Scikit-learn) RMSE: 27.541997638752466\n"
     ]
    }
   ],
   "source": [
    "# Gradient Boosting Model\n",
    "gbr = GradientBoostingRegressor(n_estimators=200,learning_rate=0.2,max_depth=3,random_state=123)\n",
    "gbr.fit(x_train, y_train)\n",
    "y_pred_gbr = gbr.predict(x_test)\n",
    "# Calculate RMSE\n",
    "rmse_gbr = mean_squared_error(y_test, y_pred_gbr, squared=False)\n",
    "\n",
    "# Output results\n",
    "print(f'Gradient Boosting (Scikit-learn) RMSE: {rmse_gbr}')\n"
   ]
  },
  {
   "cell_type": "markdown",
   "metadata": {},
   "source": [
    "## Conclusion \n",
    "GridSearchCV was able to provide the best hyperparameters for the different types of models being utilized.  Training set evaluated Random Forest, Decision Tree, Gradient Boosting, and LightGBM.  In analyzing performance on the test set the best model was Gradient Boosting with an RMSE of 27.54. Grdient Boosting was then run with the test set data.  The final RMSE was 27.54.  "
   ]
  }
 ],
 "metadata": {
  "ExecuteTimeLog": [
   {
    "duration": 159,
    "start_time": "2025-01-26T15:45:01.189Z"
   },
   {
    "duration": 886,
    "start_time": "2025-01-26T15:45:05.234Z"
   },
   {
    "duration": 39,
    "start_time": "2025-01-26T15:45:06.122Z"
   },
   {
    "duration": 10,
    "start_time": "2025-01-26T15:47:11.211Z"
   },
   {
    "duration": 6,
    "start_time": "2025-01-26T15:47:41.344Z"
   },
   {
    "duration": 507,
    "start_time": "2025-01-26T15:53:12.916Z"
   },
   {
    "duration": 5,
    "start_time": "2025-01-26T15:53:15.045Z"
   },
   {
    "duration": 6,
    "start_time": "2025-01-26T15:53:33.226Z"
   },
   {
    "duration": 6,
    "start_time": "2025-01-26T15:53:35.062Z"
   },
   {
    "duration": 6,
    "start_time": "2025-01-26T15:53:35.884Z"
   },
   {
    "duration": 5,
    "start_time": "2025-01-26T15:54:11.586Z"
   },
   {
    "duration": 5,
    "start_time": "2025-01-26T15:54:35.442Z"
   },
   {
    "duration": 7,
    "start_time": "2025-01-26T15:54:53.807Z"
   },
   {
    "duration": 4,
    "start_time": "2025-01-26T15:56:12.512Z"
   },
   {
    "duration": 26,
    "start_time": "2025-01-26T15:56:13.053Z"
   },
   {
    "duration": 6,
    "start_time": "2025-01-26T15:56:13.559Z"
   },
   {
    "duration": 7,
    "start_time": "2025-01-26T15:56:13.992Z"
   },
   {
    "duration": 13,
    "start_time": "2025-01-26T15:56:14.504Z"
   },
   {
    "duration": 6,
    "start_time": "2025-01-26T15:56:14.995Z"
   },
   {
    "duration": 17,
    "start_time": "2025-01-26T15:56:32.790Z"
   },
   {
    "duration": 9,
    "start_time": "2025-01-26T15:56:46.571Z"
   },
   {
    "duration": 4,
    "start_time": "2025-01-26T15:57:09.501Z"
   },
   {
    "duration": 808,
    "start_time": "2025-01-26T16:05:58.098Z"
   },
   {
    "duration": 33,
    "start_time": "2025-01-26T16:05:58.909Z"
   },
   {
    "duration": 7,
    "start_time": "2025-01-26T16:05:58.943Z"
   },
   {
    "duration": 7,
    "start_time": "2025-01-26T16:05:58.952Z"
   },
   {
    "duration": 6,
    "start_time": "2025-01-26T16:05:58.960Z"
   },
   {
    "duration": 4,
    "start_time": "2025-01-26T16:06:01.419Z"
   },
   {
    "duration": 7,
    "start_time": "2025-01-26T16:06:02.427Z"
   },
   {
    "duration": 2649,
    "start_time": "2025-01-26T16:12:37.812Z"
   },
   {
    "duration": 244,
    "start_time": "2025-01-26T16:16:12.868Z"
   },
   {
    "duration": 249,
    "start_time": "2025-01-26T16:16:47.083Z"
   },
   {
    "duration": 5,
    "start_time": "2025-01-26T16:17:37.386Z"
   },
   {
    "duration": 126,
    "start_time": "2025-01-26T16:17:51.511Z"
   },
   {
    "duration": 825,
    "start_time": "2025-01-27T19:34:57.853Z"
   },
   {
    "duration": 41,
    "start_time": "2025-01-27T19:34:58.680Z"
   },
   {
    "duration": 6,
    "start_time": "2025-01-27T19:34:58.723Z"
   },
   {
    "duration": 6,
    "start_time": "2025-01-27T19:34:58.732Z"
   },
   {
    "duration": 5,
    "start_time": "2025-01-27T19:34:58.740Z"
   },
   {
    "duration": 2558,
    "start_time": "2025-01-27T19:35:01.915Z"
   },
   {
    "duration": 463,
    "start_time": "2025-01-27T19:36:10.847Z"
   },
   {
    "duration": 24,
    "start_time": "2025-01-27T19:36:33.351Z"
   },
   {
    "duration": 22,
    "start_time": "2025-01-27T19:36:52.882Z"
   },
   {
    "duration": 3,
    "start_time": "2025-01-27T19:36:57.898Z"
   },
   {
    "duration": 24,
    "start_time": "2025-01-27T19:36:57.904Z"
   },
   {
    "duration": 7,
    "start_time": "2025-01-27T19:36:57.930Z"
   },
   {
    "duration": 6,
    "start_time": "2025-01-27T19:36:57.940Z"
   },
   {
    "duration": 4,
    "start_time": "2025-01-27T19:36:57.948Z"
   },
   {
    "duration": 384,
    "start_time": "2025-01-27T19:37:02.183Z"
   },
   {
    "duration": 24,
    "start_time": "2025-01-27T19:37:25.907Z"
   },
   {
    "duration": 4,
    "start_time": "2025-01-27T19:37:30.558Z"
   },
   {
    "duration": 25,
    "start_time": "2025-01-27T19:37:30.564Z"
   },
   {
    "duration": 7,
    "start_time": "2025-01-27T19:37:30.590Z"
   },
   {
    "duration": 7,
    "start_time": "2025-01-27T19:37:30.598Z"
   },
   {
    "duration": 5,
    "start_time": "2025-01-27T19:37:30.607Z"
   },
   {
    "duration": 4,
    "start_time": "2025-01-27T19:37:43.910Z"
   },
   {
    "duration": 24,
    "start_time": "2025-01-27T19:37:43.916Z"
   },
   {
    "duration": 7,
    "start_time": "2025-01-27T19:37:43.942Z"
   },
   {
    "duration": 6,
    "start_time": "2025-01-27T19:37:43.951Z"
   },
   {
    "duration": 4,
    "start_time": "2025-01-27T19:37:43.959Z"
   },
   {
    "duration": 366,
    "start_time": "2025-01-27T19:37:47.410Z"
   },
   {
    "duration": 28,
    "start_time": "2025-01-27T19:38:13.794Z"
   },
   {
    "duration": 4,
    "start_time": "2025-01-27T19:38:18.329Z"
   },
   {
    "duration": 25,
    "start_time": "2025-01-27T19:38:18.336Z"
   },
   {
    "duration": 6,
    "start_time": "2025-01-27T19:38:18.363Z"
   },
   {
    "duration": 6,
    "start_time": "2025-01-27T19:38:18.371Z"
   },
   {
    "duration": 5,
    "start_time": "2025-01-27T19:38:18.379Z"
   },
   {
    "duration": 455,
    "start_time": "2025-01-27T19:38:21.107Z"
   },
   {
    "duration": 3,
    "start_time": "2025-01-27T19:39:12.095Z"
   },
   {
    "duration": 21,
    "start_time": "2025-01-27T19:39:12.692Z"
   },
   {
    "duration": 4,
    "start_time": "2025-01-27T19:47:16.396Z"
   },
   {
    "duration": 26,
    "start_time": "2025-01-27T19:47:16.402Z"
   },
   {
    "duration": 6,
    "start_time": "2025-01-27T19:47:16.430Z"
   },
   {
    "duration": 5,
    "start_time": "2025-01-27T19:47:16.438Z"
   },
   {
    "duration": 5,
    "start_time": "2025-01-27T19:47:16.445Z"
   },
   {
    "duration": 399,
    "start_time": "2025-01-27T19:47:16.451Z"
   },
   {
    "duration": 3,
    "start_time": "2025-01-27T19:48:25.766Z"
   },
   {
    "duration": 2,
    "start_time": "2025-01-27T19:48:26.716Z"
   },
   {
    "duration": 17,
    "start_time": "2025-01-27T19:48:30.335Z"
   },
   {
    "duration": 820,
    "start_time": "2025-01-27T19:51:52.069Z"
   },
   {
    "duration": 30,
    "start_time": "2025-01-27T19:51:52.891Z"
   },
   {
    "duration": 6,
    "start_time": "2025-01-27T19:51:52.923Z"
   },
   {
    "duration": 6,
    "start_time": "2025-01-27T19:51:52.931Z"
   },
   {
    "duration": 5,
    "start_time": "2025-01-27T19:51:52.938Z"
   },
   {
    "duration": 598,
    "start_time": "2025-01-27T19:51:52.944Z"
   },
   {
    "duration": 3,
    "start_time": "2025-01-27T19:51:53.543Z"
   },
   {
    "duration": 3,
    "start_time": "2025-01-27T19:51:53.548Z"
   },
   {
    "duration": 243,
    "start_time": "2025-01-27T19:51:53.552Z"
   },
   {
    "duration": 749,
    "start_time": "2025-01-27T19:53:01.114Z"
   },
   {
    "duration": 6,
    "start_time": "2025-01-27T19:53:23.893Z"
   },
   {
    "duration": 861,
    "start_time": "2025-01-27T19:55:30.620Z"
   },
   {
    "duration": 35,
    "start_time": "2025-01-27T19:55:31.483Z"
   },
   {
    "duration": 6,
    "start_time": "2025-01-27T19:55:31.521Z"
   },
   {
    "duration": 6,
    "start_time": "2025-01-27T19:55:31.530Z"
   },
   {
    "duration": 5,
    "start_time": "2025-01-27T19:55:31.538Z"
   },
   {
    "duration": 588,
    "start_time": "2025-01-27T19:55:31.544Z"
   },
   {
    "duration": 2,
    "start_time": "2025-01-27T19:55:32.134Z"
   },
   {
    "duration": 4,
    "start_time": "2025-01-27T19:55:32.138Z"
   },
   {
    "duration": 6,
    "start_time": "2025-01-27T19:55:32.144Z"
   },
   {
    "duration": 937,
    "start_time": "2025-01-27T19:55:45.267Z"
   },
   {
    "duration": 16,
    "start_time": "2025-01-27T19:56:42.492Z"
   },
   {
    "duration": 3,
    "start_time": "2025-01-27T19:57:54.193Z"
   },
   {
    "duration": 4,
    "start_time": "2025-01-27T19:57:55.957Z"
   },
   {
    "duration": 442,
    "start_time": "2025-01-27T19:58:09.542Z"
   },
   {
    "duration": 5,
    "start_time": "2025-01-27T20:00:18.087Z"
   },
   {
    "duration": 5,
    "start_time": "2025-01-27T20:00:56.238Z"
   },
   {
    "duration": 5,
    "start_time": "2025-01-27T20:00:56.916Z"
   },
   {
    "duration": 60,
    "start_time": "2025-01-27T20:02:16.411Z"
   },
   {
    "duration": 5,
    "start_time": "2025-01-27T20:07:06.638Z"
   },
   {
    "duration": 63,
    "start_time": "2025-01-27T20:07:08.736Z"
   },
   {
    "duration": 11,
    "start_time": "2025-01-27T20:12:07.036Z"
   },
   {
    "duration": 5,
    "start_time": "2025-01-27T20:12:18.440Z"
   },
   {
    "duration": 5,
    "start_time": "2025-01-27T20:12:22.195Z"
   },
   {
    "duration": 27556,
    "start_time": "2025-01-27T20:12:47.099Z"
   },
   {
    "duration": 72956,
    "start_time": "2025-01-27T20:17:13.534Z"
   },
   {
    "duration": 7,
    "start_time": "2025-01-27T20:21:32.094Z"
   },
   {
    "duration": 4,
    "start_time": "2025-01-27T20:22:28.859Z"
   },
   {
    "duration": 20,
    "start_time": "2025-01-27T20:23:26.099Z"
   },
   {
    "duration": 15,
    "start_time": "2025-01-27T20:23:51.786Z"
   },
   {
    "duration": 5,
    "start_time": "2025-01-27T20:27:42.064Z"
   },
   {
    "duration": 15,
    "start_time": "2025-01-27T20:28:00.290Z"
   },
   {
    "duration": 23,
    "start_time": "2025-01-27T20:28:10.986Z"
   },
   {
    "duration": 816,
    "start_time": "2025-01-27T20:28:29.059Z"
   },
   {
    "duration": 32,
    "start_time": "2025-01-27T20:28:29.877Z"
   },
   {
    "duration": 6,
    "start_time": "2025-01-27T20:28:29.912Z"
   },
   {
    "duration": 8,
    "start_time": "2025-01-27T20:28:29.920Z"
   },
   {
    "duration": 5,
    "start_time": "2025-01-27T20:28:29.930Z"
   },
   {
    "duration": 593,
    "start_time": "2025-01-27T20:28:29.936Z"
   },
   {
    "duration": 5,
    "start_time": "2025-01-27T20:28:30.531Z"
   },
   {
    "duration": 3,
    "start_time": "2025-01-27T20:28:30.537Z"
   },
   {
    "duration": 6,
    "start_time": "2025-01-27T20:28:30.541Z"
   },
   {
    "duration": 9,
    "start_time": "2025-01-27T20:28:30.550Z"
   },
   {
    "duration": 3,
    "start_time": "2025-01-27T20:28:30.561Z"
   },
   {
    "duration": 4,
    "start_time": "2025-01-27T20:28:30.565Z"
   },
   {
    "duration": 37,
    "start_time": "2025-01-27T20:28:30.571Z"
   },
   {
    "duration": 72773,
    "start_time": "2025-01-27T20:28:30.609Z"
   },
   {
    "duration": 245,
    "start_time": "2025-01-27T20:29:43.384Z"
   },
   {
    "duration": 0,
    "start_time": "2025-01-27T20:29:43.631Z"
   },
   {
    "duration": 818,
    "start_time": "2025-01-28T04:18:37.271Z"
   },
   {
    "duration": 37,
    "start_time": "2025-01-28T04:18:38.092Z"
   },
   {
    "duration": 7,
    "start_time": "2025-01-28T04:18:38.131Z"
   },
   {
    "duration": 9,
    "start_time": "2025-01-28T04:18:38.139Z"
   },
   {
    "duration": 5,
    "start_time": "2025-01-28T04:18:38.150Z"
   },
   {
    "duration": 2379,
    "start_time": "2025-01-28T04:18:38.157Z"
   },
   {
    "duration": 3,
    "start_time": "2025-01-28T04:18:40.539Z"
   },
   {
    "duration": 7,
    "start_time": "2025-01-28T04:18:40.544Z"
   },
   {
    "duration": 9,
    "start_time": "2025-01-28T04:18:40.553Z"
   },
   {
    "duration": 3,
    "start_time": "2025-01-28T04:18:40.564Z"
   },
   {
    "duration": 4,
    "start_time": "2025-01-28T04:18:40.569Z"
   },
   {
    "duration": 5,
    "start_time": "2025-01-28T04:18:57.125Z"
   },
   {
    "duration": 314,
    "start_time": "2025-01-28T04:19:07.408Z"
   },
   {
    "duration": 934,
    "start_time": "2025-01-28T04:25:19.579Z"
   },
   {
    "duration": 36,
    "start_time": "2025-01-28T04:25:20.515Z"
   },
   {
    "duration": 9,
    "start_time": "2025-01-28T04:25:20.553Z"
   },
   {
    "duration": 10,
    "start_time": "2025-01-28T04:25:20.563Z"
   },
   {
    "duration": 7,
    "start_time": "2025-01-28T04:25:20.576Z"
   },
   {
    "duration": 661,
    "start_time": "2025-01-28T04:25:20.584Z"
   },
   {
    "duration": 3,
    "start_time": "2025-01-28T04:25:21.248Z"
   },
   {
    "duration": 9,
    "start_time": "2025-01-28T04:25:21.253Z"
   },
   {
    "duration": 10,
    "start_time": "2025-01-28T04:25:21.264Z"
   },
   {
    "duration": 3,
    "start_time": "2025-01-28T04:25:21.276Z"
   },
   {
    "duration": 34,
    "start_time": "2025-01-28T04:25:21.281Z"
   },
   {
    "duration": 5,
    "start_time": "2025-01-28T04:25:21.317Z"
   },
   {
    "duration": 73719,
    "start_time": "2025-01-28T04:25:21.324Z"
   },
   {
    "duration": 298,
    "start_time": "2025-01-28T04:26:35.046Z"
   },
   {
    "duration": 862,
    "start_time": "2025-01-28T17:17:51.931Z"
   },
   {
    "duration": 36,
    "start_time": "2025-01-28T17:17:52.795Z"
   },
   {
    "duration": 7,
    "start_time": "2025-01-28T17:17:52.833Z"
   },
   {
    "duration": 7,
    "start_time": "2025-01-28T17:17:52.842Z"
   },
   {
    "duration": 6,
    "start_time": "2025-01-28T17:17:52.850Z"
   },
   {
    "duration": 2266,
    "start_time": "2025-01-28T17:20:35.300Z"
   },
   {
    "duration": 784,
    "start_time": "2025-01-28T17:28:46.093Z"
   },
   {
    "duration": 38,
    "start_time": "2025-01-28T17:28:46.879Z"
   },
   {
    "duration": 7,
    "start_time": "2025-01-28T17:28:46.919Z"
   },
   {
    "duration": 7,
    "start_time": "2025-01-28T17:28:46.928Z"
   },
   {
    "duration": 4,
    "start_time": "2025-01-28T17:28:46.937Z"
   },
   {
    "duration": 587,
    "start_time": "2025-01-28T17:28:46.943Z"
   },
   {
    "duration": 224,
    "start_time": "2025-01-28T17:28:47.532Z"
   },
   {
    "duration": 465,
    "start_time": "2025-01-28T17:29:04.870Z"
   },
   {
    "duration": 838,
    "start_time": "2025-01-28T17:29:19.666Z"
   },
   {
    "duration": 28,
    "start_time": "2025-01-28T17:29:20.511Z"
   },
   {
    "duration": 7,
    "start_time": "2025-01-28T17:29:20.541Z"
   },
   {
    "duration": 8,
    "start_time": "2025-01-28T17:29:20.550Z"
   },
   {
    "duration": 6,
    "start_time": "2025-01-28T17:29:20.560Z"
   },
   {
    "duration": 587,
    "start_time": "2025-01-28T17:29:20.567Z"
   },
   {
    "duration": 209,
    "start_time": "2025-01-28T17:29:21.155Z"
   },
   {
    "duration": 176,
    "start_time": "2025-01-28T17:29:44.180Z"
   },
   {
    "duration": 6,
    "start_time": "2025-01-28T17:30:19.745Z"
   },
   {
    "duration": 848,
    "start_time": "2025-01-28T17:33:41.892Z"
   },
   {
    "duration": 28,
    "start_time": "2025-01-28T17:33:42.743Z"
   },
   {
    "duration": 6,
    "start_time": "2025-01-28T17:33:42.773Z"
   },
   {
    "duration": 7,
    "start_time": "2025-01-28T17:33:42.781Z"
   },
   {
    "duration": 24,
    "start_time": "2025-01-28T17:33:42.790Z"
   },
   {
    "duration": 537,
    "start_time": "2025-01-28T17:33:42.816Z"
   },
   {
    "duration": 188,
    "start_time": "2025-01-28T17:33:43.355Z"
   },
   {
    "duration": 250,
    "start_time": "2025-01-28T17:33:43.545Z"
   },
   {
    "duration": 951,
    "start_time": "2025-01-28T17:35:52.038Z"
   },
   {
    "duration": 27,
    "start_time": "2025-01-28T17:35:52.991Z"
   },
   {
    "duration": 6,
    "start_time": "2025-01-28T17:35:53.020Z"
   },
   {
    "duration": 6,
    "start_time": "2025-01-28T17:35:53.029Z"
   },
   {
    "duration": 4,
    "start_time": "2025-01-28T17:35:53.038Z"
   },
   {
    "duration": 438,
    "start_time": "2025-01-28T17:35:53.043Z"
   },
   {
    "duration": 185,
    "start_time": "2025-01-28T17:35:53.483Z"
   },
   {
    "duration": 606,
    "start_time": "2025-01-28T17:35:53.670Z"
   },
   {
    "duration": 8,
    "start_time": "2025-01-28T17:43:42.177Z"
   },
   {
    "duration": 7,
    "start_time": "2025-01-28T17:44:18.545Z"
   },
   {
    "duration": 452,
    "start_time": "2025-01-28T17:46:35.403Z"
   },
   {
    "duration": 525,
    "start_time": "2025-01-28T17:48:32.050Z"
   },
   {
    "duration": 601,
    "start_time": "2025-01-28T17:48:55.058Z"
   },
   {
    "duration": 349,
    "start_time": "2025-01-28T17:49:27.268Z"
   },
   {
    "duration": 550,
    "start_time": "2025-01-28T17:51:08.000Z"
   },
   {
    "duration": 612,
    "start_time": "2025-01-28T17:53:44.179Z"
   },
   {
    "duration": 423,
    "start_time": "2025-01-28T17:54:36.189Z"
   },
   {
    "duration": 427,
    "start_time": "2025-01-28T17:55:38.360Z"
   },
   {
    "duration": 582,
    "start_time": "2025-01-28T17:56:49.478Z"
   },
   {
    "duration": 511,
    "start_time": "2025-01-28T17:57:38.571Z"
   },
   {
    "duration": 375,
    "start_time": "2025-01-28T18:02:20.204Z"
   },
   {
    "duration": 449,
    "start_time": "2025-01-28T18:09:28.573Z"
   },
   {
    "duration": 989,
    "start_time": "2025-01-28T18:25:50.407Z"
   },
   {
    "duration": 28,
    "start_time": "2025-01-28T18:25:51.398Z"
   },
   {
    "duration": 7,
    "start_time": "2025-01-28T18:25:51.428Z"
   },
   {
    "duration": 6,
    "start_time": "2025-01-28T18:25:51.436Z"
   },
   {
    "duration": 5,
    "start_time": "2025-01-28T18:25:51.445Z"
   },
   {
    "duration": 433,
    "start_time": "2025-01-28T18:25:51.451Z"
   },
   {
    "duration": 192,
    "start_time": "2025-01-28T18:25:51.885Z"
   },
   {
    "duration": 594,
    "start_time": "2025-01-28T18:25:52.078Z"
   },
   {
    "duration": 254,
    "start_time": "2025-01-28T18:25:52.674Z"
   },
   {
    "duration": 0,
    "start_time": "2025-01-28T18:25:52.930Z"
   },
   {
    "duration": 0,
    "start_time": "2025-01-28T18:25:52.931Z"
   },
   {
    "duration": 0,
    "start_time": "2025-01-28T18:25:52.933Z"
   },
   {
    "duration": 0,
    "start_time": "2025-01-28T18:25:52.934Z"
   },
   {
    "duration": 0,
    "start_time": "2025-01-28T18:25:52.935Z"
   },
   {
    "duration": 0,
    "start_time": "2025-01-28T18:25:52.936Z"
   },
   {
    "duration": 0,
    "start_time": "2025-01-28T18:25:52.937Z"
   },
   {
    "duration": 23,
    "start_time": "2025-01-28T18:26:42.412Z"
   },
   {
    "duration": 453,
    "start_time": "2025-01-28T18:26:59.065Z"
   },
   {
    "duration": 3,
    "start_time": "2025-01-28T18:27:24.857Z"
   },
   {
    "duration": 6,
    "start_time": "2025-01-28T18:27:25.515Z"
   },
   {
    "duration": 11,
    "start_time": "2025-01-28T18:27:26.389Z"
   },
   {
    "duration": 3,
    "start_time": "2025-01-28T18:27:27.145Z"
   },
   {
    "duration": 4,
    "start_time": "2025-01-28T18:27:27.974Z"
   },
   {
    "duration": 4,
    "start_time": "2025-01-28T18:27:32.697Z"
   },
   {
    "duration": 23,
    "start_time": "2025-01-28T18:27:37.312Z"
   },
   {
    "duration": 49786,
    "start_time": "2025-01-28T18:28:38.178Z"
   },
   {
    "duration": 358,
    "start_time": "2025-01-28T18:38:30.455Z"
   },
   {
    "duration": 2689,
    "start_time": "2025-01-29T03:55:16.695Z"
   },
   {
    "duration": 38,
    "start_time": "2025-01-29T03:55:19.386Z"
   },
   {
    "duration": 7,
    "start_time": "2025-01-29T03:55:19.426Z"
   },
   {
    "duration": 7,
    "start_time": "2025-01-29T03:55:19.435Z"
   },
   {
    "duration": 6,
    "start_time": "2025-01-29T03:55:19.444Z"
   },
   {
    "duration": 450,
    "start_time": "2025-01-29T03:55:19.452Z"
   },
   {
    "duration": 175,
    "start_time": "2025-01-29T03:55:19.904Z"
   },
   {
    "duration": 561,
    "start_time": "2025-01-29T03:55:20.081Z"
   },
   {
    "duration": 528,
    "start_time": "2025-01-29T03:55:20.644Z"
   },
   {
    "duration": 3,
    "start_time": "2025-01-29T03:55:21.175Z"
   },
   {
    "duration": 5,
    "start_time": "2025-01-29T03:55:21.180Z"
   },
   {
    "duration": 10,
    "start_time": "2025-01-29T03:55:21.187Z"
   },
   {
    "duration": 3,
    "start_time": "2025-01-29T03:55:21.198Z"
   },
   {
    "duration": 4,
    "start_time": "2025-01-29T03:55:21.203Z"
   },
   {
    "duration": 4,
    "start_time": "2025-01-29T03:55:21.209Z"
   },
   {
    "duration": 18663,
    "start_time": "2025-01-29T03:56:43.151Z"
   },
   {
    "duration": 18441,
    "start_time": "2025-01-29T03:58:03.531Z"
   },
   {
    "duration": 49893,
    "start_time": "2025-01-29T04:00:05.500Z"
   },
   {
    "duration": 49,
    "start_time": "2025-01-29T04:04:48.967Z"
   },
   {
    "duration": 26,
    "start_time": "2025-01-29T04:07:47.203Z"
   },
   {
    "duration": 116,
    "start_time": "2025-01-29T04:08:03.098Z"
   },
   {
    "duration": 14,
    "start_time": "2025-01-29T04:08:15.781Z"
   },
   {
    "duration": 327,
    "start_time": "2025-01-29T04:08:26.892Z"
   },
   {
    "duration": 1571,
    "start_time": "2025-01-29T04:08:50.913Z"
   },
   {
    "duration": 115,
    "start_time": "2025-01-29T04:24:56.829Z"
   },
   {
    "duration": 31,
    "start_time": "2025-01-29T04:24:56.947Z"
   },
   {
    "duration": 6,
    "start_time": "2025-01-29T04:24:56.980Z"
   },
   {
    "duration": 8,
    "start_time": "2025-01-29T04:24:56.988Z"
   },
   {
    "duration": 5,
    "start_time": "2025-01-29T04:24:56.998Z"
   },
   {
    "duration": 384,
    "start_time": "2025-01-29T04:24:57.004Z"
   },
   {
    "duration": 173,
    "start_time": "2025-01-29T04:24:57.390Z"
   },
   {
    "duration": 550,
    "start_time": "2025-01-29T04:24:57.570Z"
   },
   {
    "duration": 553,
    "start_time": "2025-01-29T04:24:58.121Z"
   },
   {
    "duration": 3,
    "start_time": "2025-01-29T04:24:58.676Z"
   },
   {
    "duration": 7,
    "start_time": "2025-01-29T04:24:58.680Z"
   },
   {
    "duration": 9,
    "start_time": "2025-01-29T04:24:58.689Z"
   },
   {
    "duration": 3,
    "start_time": "2025-01-29T04:24:58.700Z"
   },
   {
    "duration": 3,
    "start_time": "2025-01-29T04:24:58.706Z"
   },
   {
    "duration": 5,
    "start_time": "2025-01-29T04:24:58.711Z"
   },
   {
    "duration": 49658,
    "start_time": "2025-01-29T04:24:58.717Z"
   },
   {
    "duration": 165984,
    "start_time": "2025-01-29T04:26:09.211Z"
   },
   {
    "duration": 5,
    "start_time": "2025-01-29T04:31:01.045Z"
   },
   {
    "duration": 5,
    "start_time": "2025-01-29T04:32:05.823Z"
   },
   {
    "duration": 75690,
    "start_time": "2025-01-29T04:33:15.513Z"
   },
   {
    "duration": 2891,
    "start_time": "2025-01-29T15:24:09.779Z"
   },
   {
    "duration": 38,
    "start_time": "2025-01-29T15:24:12.672Z"
   },
   {
    "duration": 7,
    "start_time": "2025-01-29T15:24:12.711Z"
   },
   {
    "duration": 8,
    "start_time": "2025-01-29T15:24:12.719Z"
   },
   {
    "duration": 4,
    "start_time": "2025-01-29T15:24:12.729Z"
   },
   {
    "duration": 388,
    "start_time": "2025-01-29T15:24:12.735Z"
   },
   {
    "duration": 175,
    "start_time": "2025-01-29T15:24:13.125Z"
   },
   {
    "duration": 641,
    "start_time": "2025-01-29T15:24:13.302Z"
   },
   {
    "duration": 438,
    "start_time": "2025-01-29T15:24:13.945Z"
   },
   {
    "duration": 3,
    "start_time": "2025-01-29T15:24:14.385Z"
   },
   {
    "duration": 8,
    "start_time": "2025-01-29T15:24:14.390Z"
   },
   {
    "duration": 9,
    "start_time": "2025-01-29T15:24:14.399Z"
   },
   {
    "duration": 2,
    "start_time": "2025-01-29T15:24:14.410Z"
   },
   {
    "duration": 3,
    "start_time": "2025-01-29T15:24:14.416Z"
   },
   {
    "duration": 4,
    "start_time": "2025-01-29T15:24:14.421Z"
   },
   {
    "duration": 49206,
    "start_time": "2025-01-29T15:24:14.427Z"
   },
   {
    "duration": 5,
    "start_time": "2025-01-29T15:27:23.294Z"
   },
   {
    "duration": 440,
    "start_time": "2025-01-29T15:27:31.459Z"
   },
   {
    "duration": 17,
    "start_time": "2025-01-29T15:28:58.025Z"
   },
   {
    "duration": 17,
    "start_time": "2025-01-29T15:29:15.528Z"
   },
   {
    "duration": 50,
    "start_time": "2025-01-29T15:30:51.775Z"
   },
   {
    "duration": 54,
    "start_time": "2025-01-29T15:31:11.419Z"
   },
   {
    "duration": 14,
    "start_time": "2025-01-29T16:06:50.121Z"
   },
   {
    "duration": 20,
    "start_time": "2025-01-29T16:21:06.085Z"
   },
   {
    "duration": 3,
    "start_time": "2025-01-29T16:21:09.762Z"
   },
   {
    "duration": 5,
    "start_time": "2025-01-29T16:21:10.282Z"
   },
   {
    "duration": 1066,
    "start_time": "2025-01-29T16:21:29.029Z"
   },
   {
    "duration": 29,
    "start_time": "2025-01-29T16:21:30.097Z"
   },
   {
    "duration": 7,
    "start_time": "2025-01-29T16:21:30.128Z"
   },
   {
    "duration": 8,
    "start_time": "2025-01-29T16:21:30.136Z"
   },
   {
    "duration": 24,
    "start_time": "2025-01-29T16:21:30.147Z"
   },
   {
    "duration": 376,
    "start_time": "2025-01-29T16:21:30.172Z"
   },
   {
    "duration": 234,
    "start_time": "2025-01-29T16:21:30.550Z"
   },
   {
    "duration": 560,
    "start_time": "2025-01-29T16:21:30.786Z"
   },
   {
    "duration": 430,
    "start_time": "2025-01-29T16:21:31.348Z"
   },
   {
    "duration": 3,
    "start_time": "2025-01-29T16:21:31.779Z"
   },
   {
    "duration": 7,
    "start_time": "2025-01-29T16:21:31.784Z"
   },
   {
    "duration": 19,
    "start_time": "2025-01-29T16:21:31.792Z"
   },
   {
    "duration": 3,
    "start_time": "2025-01-29T16:21:31.813Z"
   },
   {
    "duration": 3,
    "start_time": "2025-01-29T16:21:31.819Z"
   },
   {
    "duration": 458,
    "start_time": "2025-01-29T16:21:31.824Z"
   },
   {
    "duration": 3,
    "start_time": "2025-01-29T16:22:20.717Z"
   },
   {
    "duration": 12,
    "start_time": "2025-01-29T16:23:01.076Z"
   },
   {
    "duration": 5,
    "start_time": "2025-01-29T16:23:07.185Z"
   },
   {
    "duration": 19,
    "start_time": "2025-01-29T16:23:56.360Z"
   },
   {
    "duration": 6,
    "start_time": "2025-01-29T16:24:23.724Z"
   },
   {
    "duration": 5,
    "start_time": "2025-01-29T16:24:25.548Z"
   },
   {
    "duration": 3,
    "start_time": "2025-01-29T16:24:34.273Z"
   },
   {
    "duration": 4,
    "start_time": "2025-01-29T16:24:35.109Z"
   },
   {
    "duration": 6,
    "start_time": "2025-01-29T16:24:38.914Z"
   },
   {
    "duration": 222166,
    "start_time": "2025-01-29T16:24:42.904Z"
   },
   {
    "duration": 222794,
    "start_time": "2025-01-29T16:35:40.892Z"
   },
   {
    "duration": 653,
    "start_time": "2025-01-29T16:44:48.297Z"
   },
   {
    "duration": 2823,
    "start_time": "2025-04-20T19:49:20.581Z"
   },
   {
    "duration": 39,
    "start_time": "2025-04-20T19:49:23.408Z"
   },
   {
    "duration": 6,
    "start_time": "2025-04-20T19:49:23.450Z"
   },
   {
    "duration": 6,
    "start_time": "2025-04-20T19:49:23.460Z"
   },
   {
    "duration": 5,
    "start_time": "2025-04-20T19:49:23.468Z"
   },
   {
    "duration": 389,
    "start_time": "2025-04-20T19:49:23.475Z"
   },
   {
    "duration": 195,
    "start_time": "2025-04-20T19:49:23.865Z"
   },
   {
    "duration": 639,
    "start_time": "2025-04-20T19:49:24.062Z"
   },
   {
    "duration": 518,
    "start_time": "2025-04-20T19:49:24.703Z"
   },
   {
    "duration": 3,
    "start_time": "2025-04-20T19:49:25.223Z"
   },
   {
    "duration": 6,
    "start_time": "2025-04-20T19:49:25.228Z"
   },
   {
    "duration": 25,
    "start_time": "2025-04-20T19:49:25.236Z"
   },
   {
    "duration": 5,
    "start_time": "2025-04-20T19:49:25.263Z"
   },
   {
    "duration": 3,
    "start_time": "2025-04-20T19:49:25.270Z"
   },
   {
    "duration": 36,
    "start_time": "2025-04-20T19:49:25.275Z"
   },
   {
    "duration": 3,
    "start_time": "2025-04-20T19:49:25.313Z"
   },
   {
    "duration": 224104,
    "start_time": "2025-04-20T19:49:25.318Z"
   },
   {
    "duration": 666,
    "start_time": "2025-04-20T19:53:09.424Z"
   }
  ],
  "kernelspec": {
   "display_name": "Python 3 (ipykernel)",
   "language": "python",
   "name": "python3"
  },
  "language_info": {
   "codemirror_mode": {
    "name": "ipython",
    "version": 3
   },
   "file_extension": ".py",
   "mimetype": "text/x-python",
   "name": "python",
   "nbconvert_exporter": "python",
   "pygments_lexer": "ipython3",
   "version": "3.9.19"
  },
  "toc": {
   "base_numbering": 1,
   "nav_menu": {},
   "number_sections": true,
   "sideBar": true,
   "skip_h1_title": true,
   "title_cell": "Table of Contents",
   "title_sidebar": "Contents",
   "toc_cell": false,
   "toc_position": {},
   "toc_section_display": true,
   "toc_window_display": false
  }
 },
 "nbformat": 4,
 "nbformat_minor": 2
}
